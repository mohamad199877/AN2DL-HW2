{
  "nbformat": 4,
  "nbformat_minor": 0,
  "metadata": {
    "colab": {
      "provenance": [],
      "gpuType": "T4"
    },
    "kernelspec": {
      "name": "python3",
      "display_name": "Python 3"
    },
    "language_info": {
      "name": "python"
    },
    "accelerator": "GPU"
  },
  "cells": [
    {
      "cell_type": "code",
      "source": [
        "from google.colab import drive\n",
        "drive.mount('/content/gdrive', force_remount=True)"
      ],
      "metadata": {
        "colab": {
          "base_uri": "https://localhost:8080/"
        },
        "id": "xiXkp8qRzVSP",
        "outputId": "deb89289-e82c-4fe4-fea7-34164519501e"
      },
      "execution_count": null,
      "outputs": [
        {
          "output_type": "stream",
          "name": "stdout",
          "text": [
            "Mounted at /content/gdrive\n"
          ]
        }
      ]
    },
    {
      "cell_type": "code",
      "execution_count": null,
      "metadata": {
        "id": "4bf9xb59wxkX",
        "colab": {
          "base_uri": "https://localhost:8080/"
        },
        "outputId": "35c1d202-ac21-4845-ee2d-0a64d9b37210"
      },
      "outputs": [
        {
          "output_type": "stream",
          "name": "stdout",
          "text": [
            "Mounted at /content/gdrive\n"
          ]
        }
      ],
      "source": [
        "#from google.colab import drive\n",
        "drive.mount('/content/gdrive', force_remount=True)"
      ]
    },
    {
      "cell_type": "code",
      "source": [
        "# Fix randomness and hide warnings\n",
        "seed = 42\n",
        "\n",
        "import os\n",
        "os.environ['TF_CPP_MIN_LOG_LEVEL'] = '3'\n",
        "os.environ['PYTHONHASHSEED'] = str(seed)\n",
        "os.environ['MPLCONFIGDIR'] = os.getcwd()+'/configs/'\n",
        "\n",
        "import warnings\n",
        "warnings.simplefilter(action='ignore', category=FutureWarning)\n",
        "warnings.simplefilter(action='ignore', category=Warning)\n",
        "\n",
        "import numpy as np\n",
        "np.random.seed(seed)\n",
        "\n",
        "import logging\n",
        "\n",
        "import random\n",
        "random.seed(seed)\n",
        "\n",
        "# Import tensorflow\n",
        "import tensorflow as tf\n",
        "from tensorflow import keras as tfk\n",
        "from tensorflow.keras import layers as tfkl\n",
        "tf.autograph.set_verbosity(0)\n",
        "tf.get_logger().setLevel(logging.ERROR)\n",
        "tf.compat.v1.logging.set_verbosity(tf.compat.v1.logging.ERROR)\n",
        "tf.random.set_seed(seed)\n",
        "tf.compat.v1.set_random_seed(seed)\n",
        "print(tf.__version__)\n",
        "\n",
        "import pandas as pd\n",
        "import seaborn as sns\n",
        "from datetime import datetime\n",
        "import matplotlib.pyplot as plt\n",
        "plt.rc('font', size=16)\n",
        "from sklearn.preprocessing import MinMaxScaler\n",
        "import pandas as pd\n",
        "import tensorflow as tf\n",
        "from tensorflow.keras.layers import Input, Bidirectional, LSTM, Conv1D, Cropping1D\n",
        "from tensorflow.keras.models import Sequential\n",
        "from tensorflow.keras.optimizers import Adam\n",
        "from tensorflow.keras.callbacks import Callback\n",
        "\n",
        "import numpy as np\n",
        "import tensorflow as tf\n",
        "from tensorflow.keras import layers as tfkl\n",
        "from sklearn.model_selection import train_test_split\n",
        "from sklearn.metrics import mean_squared_error, mean_absolute_error\n"
      ],
      "metadata": {
        "id": "aymC4c1VwzDT",
        "colab": {
          "base_uri": "https://localhost:8080/"
        },
        "outputId": "eff91f05-1993-4804-d275-6e99828d3290"
      },
      "execution_count": null,
      "outputs": [
        {
          "output_type": "stream",
          "name": "stdout",
          "text": [
            "2.15.0\n"
          ]
        }
      ]
    },
    {
      "cell_type": "code",
      "source": [
        "# Define the ConvLSTM model function\n",
        "def build_CONV_LSTM_model(input_shape, output_shape):\n",
        "    input_layer = tfkl.Input(shape=input_shape, name='input_layer')\n",
        "    x = tfkl.Bidirectional(tfkl.LSTM(64, return_sequences=True, name='lstm'), name='bidirectional_lstm')(input_layer)\n",
        "    x = tfkl.Conv1D(128, 3, padding='same', activation='relu', name='conv')(x)\n",
        "    output_layer = tfkl.Conv1D(output_shape[1], 3, padding='same', name='output_layer')(x)\n",
        "    crop_size = output_layer.shape[1] - output_shape[0]\n",
        "    output_layer = tfkl.Cropping1D((0, crop_size), name='cropping')(output_layer)\n",
        "    model = tf.keras.Model(inputs=input_layer, outputs=output_layer, name='CONV_LSTM_model')\n",
        "    model.compile(loss=tf.keras.losses.MeanSquaredError(), optimizer=tf.keras.optimizers.Adam())\n",
        "    return model"
      ],
      "metadata": {
        "id": "BjUnohSrw9Ja"
      },
      "execution_count": null,
      "outputs": []
    },
    {
      "cell_type": "code",
      "source": [
        "# Load your dataset\n",
        "training_data = np.load('/content/gdrive/MyDrive/AN2DL_HW2/dataset/training_data.npy')\n",
        "valid_periods = np.load('/content/gdrive/MyDrive/AN2DL_HW2/dataset/valid_periods.npy')\n",
        "categories = np.load('/content/gdrive/MyDrive/AN2DL_HW2/dataset/categories.npy')\n"
      ],
      "metadata": {
        "id": "ewKCHu8Mw_Hr"
      },
      "execution_count": null,
      "outputs": []
    },
    {
      "cell_type": "code",
      "source": [
        "# Preprocess the data: trim padding and categorize\n",
        "trimmed_data = [series[start:end] for series, (start, end) in zip(training_data, valid_periods)]\n",
        "data_by_category = {}\n",
        "for series, category in zip(trimmed_data, categories):\n",
        "    if category not in data_by_category:\n",
        "        data_by_category[category] = []\n",
        "    data_by_category[category].append(series)"
      ],
      "metadata": {
        "id": "LsjfxOn6xA8v"
      },
      "execution_count": null,
      "outputs": []
    },
    {
      "cell_type": "code",
      "source": [
        "# Function to split each time series into training and test sets\n",
        "test_set_proportion = 0.1  # e.g., last 10% of each series for testing\n",
        "def split_train_test(series, test_set_proportion):\n",
        "    test_set_size = int(len(series) * test_set_proportion)\n",
        "    train_series = series[:-test_set_size] if test_set_size else series\n",
        "    test_series = series[-test_set_size:] if test_set_size else []\n",
        "    return train_series, test_series"
      ],
      "metadata": {
        "id": "LLR96DbZxC1Z"
      },
      "execution_count": null,
      "outputs": []
    },
    {
      "cell_type": "code",
      "source": [
        "# Split data into training/validation and testing\n",
        "train_data_by_category = {}\n",
        "test_data_by_category = {}\n",
        "for category, series_list in data_by_category.items():\n",
        "    train_series_list = []\n",
        "    test_series_list = []\n",
        "    for series in series_list:\n",
        "        train_series, test_series = split_train_test(series, test_set_proportion)\n",
        "        train_series_list.append(train_series)\n",
        "        test_series_list.append(test_series)\n",
        "    train_data_by_category[category] = train_series_list\n",
        "    test_data_by_category[category] = test_series_list"
      ],
      "metadata": {
        "id": "0eDjzGAAxFYl"
      },
      "execution_count": null,
      "outputs": []
    },
    {
      "cell_type": "code",
      "source": [
        "# Define the sequence building function\n",
        "def build_sequences(data, window, stride, telescope):\n",
        "    X, y = [], []\n",
        "    for series in data:\n",
        "        if len(series) < window + telescope:\n",
        "            continue  # Skip this series as it's too short\n",
        "        for i in range(0, len(series) - window - telescope + 1, stride):\n",
        "            X.append(series[i:i+window])\n",
        "            y.append(series[i+window:i+window+telescope])\n",
        "    X = np.array(X).reshape(-1, window, 1)  # Reshape for LSTM\n",
        "    y = np.array(y).reshape(-1, telescope, 1)\n",
        "    print(f\"Shape of X: {X.shape}, Shape of y: {y.shape}\")\n",
        "    return X, y"
      ],
      "metadata": {
        "id": "S0Y_SkoXxHPL"
      },
      "execution_count": null,
      "outputs": []
    },
    {
      "cell_type": "code",
      "source": [
        "# Model training parameters\n",
        "window_size = 30\n",
        "stride = 10\n",
        "forecast_horizon = 10\n",
        "\n",
        "# Train a model for each category\n",
        "models_by_category = {}\n",
        "for category, series_list in train_data_by_category.items():\n",
        "    X, y = build_sequences(series_list, window_size, stride, forecast_horizon)\n",
        "    X_train, X_val, y_train, y_val = train_test_split(X, y, test_size=0.1, random_state=42)\n",
        "    input_shape = X_train.shape[1:]\n",
        "    output_shape = y_train.shape[1:]\n",
        "    model = build_CONV_LSTM_model(input_shape, output_shape)\n",
        "    model.summary()\n",
        "    model.fit(X_train, y_train, validation_data=(X_val, y_val), epochs=2, batch_size=64)\n",
        "    models_by_category[category] = model\n",
        "    print(f\"Training model for category {category}\")\n",
        "    print(f\"X_train shape: {X_train.shape}, y_train shape: {y_train.shape}\")\n",
        "    print(f\"X_val shape: {X_val.shape}, y_val shape: {y_val.shape}\")\n",
        "\n",
        "\n",
        "# Generating predictions and calculating MSE and MAE for each category\n",
        "# Check if Category F exists in test_data_by_category\n",
        "print(\"Categories in test data:\", test_data_by_category.keys())"
      ],
      "metadata": {
        "id": "T00i5CpexUho",
        "colab": {
          "base_uri": "https://localhost:8080/"
        },
        "outputId": "6598682f-48c2-416c-aa3f-d900c52b611c"
      },
      "execution_count": null,
      "outputs": [
        {
          "output_type": "stream",
          "name": "stdout",
          "text": [
            "Shape of X: (161869, 30, 1), Shape of y: (161869, 10, 1)\n",
            "Model: \"CONV_LSTM_model\"\n",
            "_________________________________________________________________\n",
            " Layer (type)                Output Shape              Param #   \n",
            "=================================================================\n",
            " input_layer (InputLayer)    [(None, 30, 1)]           0         \n",
            "                                                                 \n",
            " bidirectional_lstm (Bidire  (None, 30, 128)           33792     \n",
            " ctional)                                                        \n",
            "                                                                 \n",
            " conv (Conv1D)               (None, 30, 128)           49280     \n",
            "                                                                 \n",
            " output_layer (Conv1D)       (None, 30, 1)             385       \n",
            "                                                                 \n",
            " cropping (Cropping1D)       (None, 10, 1)             0         \n",
            "                                                                 \n",
            "=================================================================\n",
            "Total params: 83457 (326.00 KB)\n",
            "Trainable params: 83457 (326.00 KB)\n",
            "Non-trainable params: 0 (0.00 Byte)\n",
            "_________________________________________________________________\n",
            "Epoch 1/2\n",
            "2277/2277 [==============================] - 28s 9ms/step - loss: 0.0128 - val_loss: 0.0120\n",
            "Epoch 2/2\n",
            "2277/2277 [==============================] - 17s 8ms/step - loss: 0.0103 - val_loss: 0.0097\n",
            "Training model for category D\n",
            "X_train shape: (145682, 30, 1), y_train shape: (145682, 10, 1)\n",
            "X_val shape: (16187, 30, 1), y_val shape: (16187, 10, 1)\n",
            "Shape of X: (123996, 30, 1), Shape of y: (123996, 10, 1)\n",
            "Model: \"CONV_LSTM_model\"\n",
            "_________________________________________________________________\n",
            " Layer (type)                Output Shape              Param #   \n",
            "=================================================================\n",
            " input_layer (InputLayer)    [(None, 30, 1)]           0         \n",
            "                                                                 \n",
            " bidirectional_lstm (Bidire  (None, 30, 128)           33792     \n",
            " ctional)                                                        \n",
            "                                                                 \n",
            " conv (Conv1D)               (None, 30, 128)           49280     \n",
            "                                                                 \n",
            " output_layer (Conv1D)       (None, 30, 1)             385       \n",
            "                                                                 \n",
            " cropping (Cropping1D)       (None, 10, 1)             0         \n",
            "                                                                 \n",
            "=================================================================\n",
            "Total params: 83457 (326.00 KB)\n",
            "Trainable params: 83457 (326.00 KB)\n",
            "Non-trainable params: 0 (0.00 Byte)\n",
            "_________________________________________________________________\n",
            "Epoch 1/2\n",
            "1744/1744 [==============================] - 18s 9ms/step - loss: 0.0141 - val_loss: 0.0112\n",
            "Epoch 2/2\n",
            "1744/1744 [==============================] - 13s 8ms/step - loss: 0.0103 - val_loss: 0.0102\n",
            "Training model for category E\n",
            "X_train shape: (111596, 30, 1), y_train shape: (111596, 10, 1)\n",
            "X_val shape: (12400, 30, 1), y_val shape: (12400, 10, 1)\n",
            "Shape of X: (124545, 30, 1), Shape of y: (124545, 10, 1)\n",
            "Model: \"CONV_LSTM_model\"\n",
            "_________________________________________________________________\n",
            " Layer (type)                Output Shape              Param #   \n",
            "=================================================================\n",
            " input_layer (InputLayer)    [(None, 30, 1)]           0         \n",
            "                                                                 \n",
            " bidirectional_lstm (Bidire  (None, 30, 128)           33792     \n",
            " ctional)                                                        \n",
            "                                                                 \n",
            " conv (Conv1D)               (None, 30, 128)           49280     \n",
            "                                                                 \n",
            " output_layer (Conv1D)       (None, 30, 1)             385       \n",
            "                                                                 \n",
            " cropping (Cropping1D)       (None, 10, 1)             0         \n",
            "                                                                 \n",
            "=================================================================\n",
            "Total params: 83457 (326.00 KB)\n",
            "Trainable params: 83457 (326.00 KB)\n",
            "Non-trainable params: 0 (0.00 Byte)\n",
            "_________________________________________________________________\n",
            "Epoch 1/2\n",
            "1752/1752 [==============================] - 18s 8ms/step - loss: 0.0142 - val_loss: 0.0115\n",
            "Epoch 2/2\n",
            "1752/1752 [==============================] - 13s 7ms/step - loss: 0.0116 - val_loss: 0.0109\n",
            "Training model for category A\n",
            "X_train shape: (112090, 30, 1), y_train shape: (112090, 10, 1)\n",
            "X_val shape: (12455, 30, 1), y_val shape: (12455, 10, 1)\n",
            "Shape of X: (153745, 30, 1), Shape of y: (153745, 10, 1)\n",
            "Model: \"CONV_LSTM_model\"\n",
            "_________________________________________________________________\n",
            " Layer (type)                Output Shape              Param #   \n",
            "=================================================================\n",
            " input_layer (InputLayer)    [(None, 30, 1)]           0         \n",
            "                                                                 \n",
            " bidirectional_lstm (Bidire  (None, 30, 128)           33792     \n",
            " ctional)                                                        \n",
            "                                                                 \n",
            " conv (Conv1D)               (None, 30, 128)           49280     \n",
            "                                                                 \n",
            " output_layer (Conv1D)       (None, 30, 1)             385       \n",
            "                                                                 \n",
            " cropping (Cropping1D)       (None, 10, 1)             0         \n",
            "                                                                 \n",
            "=================================================================\n",
            "Total params: 83457 (326.00 KB)\n",
            "Trainable params: 83457 (326.00 KB)\n",
            "Non-trainable params: 0 (0.00 Byte)\n",
            "_________________________________________________________________\n",
            "Epoch 1/2\n",
            "2163/2163 [==============================] - 23s 8ms/step - loss: 0.0143 - val_loss: 0.0123\n",
            "Epoch 2/2\n",
            "2163/2163 [==============================] - 16s 7ms/step - loss: 0.0117 - val_loss: 0.0126\n",
            "Training model for category C\n",
            "X_train shape: (138370, 30, 1), y_train shape: (138370, 10, 1)\n",
            "X_val shape: (15375, 30, 1), y_val shape: (15375, 10, 1)\n",
            "Shape of X: (126956, 30, 1), Shape of y: (126956, 10, 1)\n",
            "Model: \"CONV_LSTM_model\"\n",
            "_________________________________________________________________\n",
            " Layer (type)                Output Shape              Param #   \n",
            "=================================================================\n",
            " input_layer (InputLayer)    [(None, 30, 1)]           0         \n",
            "                                                                 \n",
            " bidirectional_lstm (Bidire  (None, 30, 128)           33792     \n",
            " ctional)                                                        \n",
            "                                                                 \n",
            " conv (Conv1D)               (None, 30, 128)           49280     \n",
            "                                                                 \n",
            " output_layer (Conv1D)       (None, 30, 1)             385       \n",
            "                                                                 \n",
            " cropping (Cropping1D)       (None, 10, 1)             0         \n",
            "                                                                 \n",
            "=================================================================\n",
            "Total params: 83457 (326.00 KB)\n",
            "Trainable params: 83457 (326.00 KB)\n",
            "Non-trainable params: 0 (0.00 Byte)\n",
            "_________________________________________________________________\n",
            "Epoch 1/2\n",
            "1786/1786 [==============================] - 18s 8ms/step - loss: 0.0148 - val_loss: 0.0130\n",
            "Epoch 2/2\n",
            "1786/1786 [==============================] - 13s 8ms/step - loss: 0.0124 - val_loss: 0.0123\n",
            "Training model for category B\n",
            "X_train shape: (114260, 30, 1), y_train shape: (114260, 10, 1)\n",
            "X_val shape: (12696, 30, 1), y_val shape: (12696, 10, 1)\n",
            "Shape of X: (3932, 30, 1), Shape of y: (3932, 10, 1)\n",
            "Model: \"CONV_LSTM_model\"\n",
            "_________________________________________________________________\n",
            " Layer (type)                Output Shape              Param #   \n",
            "=================================================================\n",
            " input_layer (InputLayer)    [(None, 30, 1)]           0         \n",
            "                                                                 \n",
            " bidirectional_lstm (Bidire  (None, 30, 128)           33792     \n",
            " ctional)                                                        \n",
            "                                                                 \n",
            " conv (Conv1D)               (None, 30, 128)           49280     \n",
            "                                                                 \n",
            " output_layer (Conv1D)       (None, 30, 1)             385       \n",
            "                                                                 \n",
            " cropping (Cropping1D)       (None, 10, 1)             0         \n",
            "                                                                 \n",
            "=================================================================\n",
            "Total params: 83457 (326.00 KB)\n",
            "Trainable params: 83457 (326.00 KB)\n",
            "Non-trainable params: 0 (0.00 Byte)\n",
            "_________________________________________________________________\n",
            "Epoch 1/2\n",
            "56/56 [==============================] - 5s 25ms/step - loss: 0.0368 - val_loss: 0.0228\n",
            "Epoch 2/2\n",
            "56/56 [==============================] - 1s 11ms/step - loss: 0.0203 - val_loss: 0.0140\n",
            "Training model for category F\n",
            "X_train shape: (3538, 30, 1), y_train shape: (3538, 10, 1)\n",
            "X_val shape: (394, 30, 1), y_val shape: (394, 10, 1)\n",
            "Categories in test data: dict_keys(['D', 'E', 'A', 'C', 'B', 'F'])\n"
          ]
        }
      ]
    },
    {
      "cell_type": "code",
      "source": [
        "# Check the length of data for Category F\n",
        "if 'F' in test_data_by_category:\n",
        "    print(\"Number of series in Category F:\", len(test_data_by_category['F']))\n",
        "    print(\"Lengths of series in Category F:\", [len(series) for series in test_data_by_category['F']])\n",
        "\n",
        "    # Generate sequences for Category F\n",
        "    X_test_F, y_test_F = build_sequences(test_data_by_category['F'], window_size, stride, forecast_horizon)\n",
        "    print(\"Generated sequences for Category F - X_test shape:\", X_test_F.shape, \"y_test shape:\", y_test_F.shape)\n",
        "\n",
        "    # If sequences are generated, check predictions\n",
        "    if len(X_test_F) > 0 and len(y_test_F) > 0:\n",
        "        predictions_F = models_by_category['F'].predict(X_test_F)\n",
        "        print(\"Predictions for Category F shape:\", predictions_F.shape)\n",
        "    else:\n",
        "        print(\"No sequences generated for Category F\")\n"
      ],
      "metadata": {
        "id": "wswzkvrNxX62",
        "colab": {
          "base_uri": "https://localhost:8080/"
        },
        "outputId": "6be9114d-0494-4fd4-ed20-d4c94b4b24a3"
      },
      "execution_count": null,
      "outputs": [
        {
          "output_type": "stream",
          "name": "stdout",
          "text": [
            "Number of series in Category F: 277\n",
            "Lengths of series in Category F: [66, 77, 76, 65, 28, 15, 15, 15, 15, 15, 15, 15, 15, 15, 15, 16, 16, 16, 16, 12, 10, 21, 21, 21, 15, 21, 21, 21, 12, 21, 15, 21, 16, 10, 10, 21, 10, 22, 21, 21, 15, 15, 15, 15, 21, 16, 21, 21, 12, 21, 21, 21, 21, 65, 56, 52, 14, 33, 33, 31, 16, 16, 16, 40, 16, 16, 31, 27, 31, 5, 5, 4, 4, 6, 5, 5, 5, 4, 5, 5, 5, 4, 4, 3, 3, 3, 2, 3, 2, 4, 5, 5, 5, 5, 6, 5, 4, 4, 5, 4, 4, 5, 4, 6, 4, 3, 5, 5, 5, 42, 5, 8, 6, 8, 42, 6, 4, 11, 3, 7, 7, 4, 7, 4, 5, 3, 3, 2, 6, 2, 23, 4, 2, 2, 2, 3, 3, 2, 4, 17, 17, 17, 17, 17, 17, 21, 56, 21, 21, 21, 56, 21, 21, 21, 21, 21, 21, 21, 33, 32, 17, 17, 17, 17, 17, 21, 21, 21, 21, 52, 48, 48, 48, 48, 48, 34, 48, 34, 34, 34, 4, 22, 22, 22, 22, 20, 22, 21, 22, 22, 33, 106, 22, 22, 22, 22, 22, 48, 11, 11, 11, 11, 11, 11, 11, 26, 11, 11, 20, 20, 20, 20, 20, 20, 20, 20, 20, 20, 20, 20, 23, 20, 20, 20, 20, 20, 20, 20, 20, 31, 31, 33, 33, 48, 33, 33, 52, 48, 48, 48, 48, 48, 17, 17, 17, 17, 17, 17, 17, 17, 17, 17, 17, 17, 75, 9, 9, 16, 4, 15, 16, 15, 15, 15, 16, 8, 8, 14, 9, 8, 9, 9, 13, 13, 10, 10, 10]\n",
            "Shape of X: (56, 30, 1), Shape of y: (56, 10, 1)\n",
            "Generated sequences for Category F - X_test shape: (56, 30, 1) y_test shape: (56, 10, 1)\n",
            "2/2 [==============================] - 1s 10ms/step\n",
            "Predictions for Category F shape: (56, 10, 1)\n"
          ]
        }
      ]
    },
    {
      "cell_type": "code",
      "source": [
        "# Generating predictions and calculating MSE and MAE for each category\n",
        "for category in test_data_by_category:\n",
        "    X_test, y_test = build_sequences(test_data_by_category[category], window_size, stride, forecast_horizon)\n",
        "    if len(X_test) > 0 and len(y_test) > 0:  # Ensure there is data for testing\n",
        "        predictions = models_by_category[category].predict(X_test)\n",
        "\n",
        "        # Flatten the arrays for comparison\n",
        "        y_test_flattened = y_test.reshape(-1, y_test.shape[-1])\n",
        "        predictions_flattened = predictions.reshape(-1, predictions.shape[-1])\n",
        "\n",
        "        # Check shapes\n",
        "        print(f\"Category {category} - y_test shape: {y_test_flattened.shape}, predictions shape: {predictions_flattened.shape}\")\n",
        "\n",
        "        # Ensure the shapes are compatible\n",
        "        if y_test_flattened.shape == predictions_flattened.shape:\n",
        "            mse = mean_squared_error(y_test_flattened, predictions_flattened)\n",
        "            mae = mean_absolute_error(y_test_flattened, predictions_flattened)\n",
        "            print(f\"Category {category} - MSE: {mse}, MAE: {mae}\")\n",
        "        else:\n",
        "            print(f\"Category {category} - Incompatible shapes for MSE and MAE calculation\")\n"
      ],
      "metadata": {
        "id": "Pz8iUY4YxfDW",
        "colab": {
          "base_uri": "https://localhost:8080/"
        },
        "outputId": "8d9d6883-0c4b-4097-9da9-8310f1a089f0"
      },
      "execution_count": null,
      "outputs": [
        {
          "output_type": "stream",
          "name": "stdout",
          "text": [
            "Shape of X: (1595, 30, 1), Shape of y: (1595, 10, 1)\n",
            "50/50 [==============================] - 1s 6ms/step\n",
            "Category D - y_test shape: (15950, 1), predictions shape: (15950, 1)\n",
            "Category D - MSE: 0.006428571559690727, MAE: 0.056335587758133965\n",
            "Shape of X: (535, 30, 1), Shape of y: (535, 10, 1)\n",
            "17/17 [==============================] - 1s 8ms/step\n",
            "Category E - y_test shape: (5350, 1), predictions shape: (5350, 1)\n",
            "Category E - MSE: 0.00857773435740848, MAE: 0.05696567662274248\n",
            "Shape of X: (1287, 30, 1), Shape of y: (1287, 10, 1)\n",
            "41/41 [==============================] - 1s 5ms/step\n",
            "Category A - y_test shape: (12870, 1), predictions shape: (12870, 1)\n",
            "Category A - MSE: 0.007435225013449549, MAE: 0.0655347125189702\n",
            "Shape of X: (1773, 30, 1), Shape of y: (1773, 10, 1)\n",
            "56/56 [==============================] - 1s 5ms/step\n",
            "Category C - y_test shape: (17730, 1), predictions shape: (17730, 1)\n",
            "Category C - MSE: 0.012415862999155055, MAE: 0.0878175335239768\n",
            "Shape of X: (793, 30, 1), Shape of y: (793, 10, 1)\n",
            "25/25 [==============================] - 1s 6ms/step\n",
            "Category B - y_test shape: (7930, 1), predictions shape: (7930, 1)\n",
            "Category B - MSE: 0.007915550979460916, MAE: 0.06732347335513879\n",
            "Shape of X: (56, 30, 1), Shape of y: (56, 10, 1)\n",
            "2/2 [==============================] - 0s 6ms/step\n",
            "Category F - y_test shape: (560, 1), predictions shape: (560, 1)\n",
            "Category F - MSE: 0.014719704069800338, MAE: 0.09684713535693563\n"
          ]
        }
      ]
    }
  ]
}